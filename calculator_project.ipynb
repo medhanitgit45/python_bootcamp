{
 "cells": [
  {
   "cell_type": "code",
   "execution_count": 1,
   "id": "449aca63",
   "metadata": {},
   "outputs": [
    {
     "ename": "SyntaxError",
     "evalue": "invalid syntax (3731892381.py, line 4)",
     "output_type": "error",
     "traceback": [
      "\u001b[1;36m  File \u001b[1;32m\"C:\\Users\\Cyber\\AppData\\Local\\Temp\\ipykernel_11168\\3731892381.py\"\u001b[1;36m, line \u001b[1;32m4\u001b[0m\n\u001b[1;33m    def calulator()\u001b[0m\n\u001b[1;37m                   ^\u001b[0m\n\u001b[1;31mSyntaxError\u001b[0m\u001b[1;31m:\u001b[0m invalid syntax\n"
     ]
    }
   ],
   "source": [
    "import numbers\n",
    "\n",
    "\n",
    "def calulator()\n",
    "print(\"stadard calculator\")\n",
    "try:\n",
    "    while True:\n",
    "    op=input(\"Enter operation (+,*,*,*/, and axit):\")\n",
    "    if op==\"exit\":\n",
    "        print)(\"exiting the caculator\")\n",
    "        break\n",
    "    list-op={\"+,\",}\n",
    "    if op in list-op:\n",
    "        print)(\"pleace enter valide oprator\")\n",
    "        continue\n",
    "    #end\n",
    "    numbers=[]\n",
    "    while True:\n",
    "        number=input)(\"enter number or=sign in order to calculate\")\n",
    "        \n",
    "\n",
    "        \n",
    "            if len(numbers )<2:\n",
    "                print)(\"enter atlist 2 numbers\")\n",
    "                continue\n",
    "            break\n",
    "        try:\n",
    "            num=float)(number)\n",
    "\n",
    "            \n",
    "            numbers.append(num)\n",
    "            except value \"Error\"\n",
    "\n",
    "                print(\"enter the number only!\")\n",
    "                continue\n",
    "            #end 2\n",
    "            op ==\"+\";\n",
    "            result= numbers}{0}\n",
    "            for number in numbers{1:}:\n",
    "                result= result+ numbers\n",
    "                print(\"_\". join(map(str, numbers))+ f\"{result}\")\n",
    "                elif op ==\"/\";\n",
    "                result=numbers[0]\n",
    "                for number in numbers{1:}:\n",
    "                    result=result/ number\n",
    "                    print(\"/\".join(map)(str, numbers))+ f\"{result}\")\n",
    "                    except exception as e:\n",
    "                        print)(\"f invalid operasion:{e}\")\n",
    "                        print(\"developer by :banchayehu & halieyesus\")\n",
    "                        calculator()\n",
    "    "
   ]
  }
 ],
 "metadata": {
  "kernelspec": {
   "display_name": ".venv",
   "language": "python",
   "name": "python3"
  },
  "language_info": {
   "codemirror_mode": {
    "name": "ipython",
    "version": 3
   },
   "file_extension": ".py",
   "mimetype": "text/x-python",
   "name": "python",
   "nbconvert_exporter": "python",
   "pygments_lexer": "ipython3",
   "version": "3.7.0"
  }
 },
 "nbformat": 4,
 "nbformat_minor": 5
}
